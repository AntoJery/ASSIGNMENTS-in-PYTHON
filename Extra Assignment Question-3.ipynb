{
 "cells": [
  {
   "cell_type": "code",
   "execution_count": 8,
   "metadata": {},
   "outputs": [
    {
     "name": "stdout",
     "output_type": "stream",
     "text": [
      "CORRECT\n"
     ]
    }
   ],
   "source": [
    "i=10\n",
    "if(i==10):\n",
    "    print(\"CORRECT\")"
   ]
  },
  {
   "cell_type": "code",
   "execution_count": 6,
   "metadata": {},
   "outputs": [
    {
     "name": "stdout",
     "output_type": "stream",
     "text": [
      "Enter your password= HOPE@123\n",
      "Password is correct\n"
     ]
    }
   ],
   "source": [
    "pw=input(\"Enter your password= \")\n",
    "if pw == \"HOPE@123\":\n",
    "    print(\"Password is correct\")\n",
    "else:\n",
    "    print(\"Wrong password\")"
   ]
  },
  {
   "cell_type": "code",
   "execution_count": 13,
   "metadata": {},
   "outputs": [
    {
     "name": "stdout",
     "output_type": "stream",
     "text": [
      "Enter your age = 20\n",
      "ADULT\n"
     ]
    }
   ],
   "source": [
    "age=int(input(\"Enter your age = \"))\n",
    "if age<19:\n",
    "    print(\"CHILDREN\")\n",
    "elif age<40:\n",
    "    print(\"ADULT\")\n",
    "elif age<61:\n",
    "    print(\"CITIZEN\")\n",
    "elif age>60:\n",
    "    print(\"SENIOR CITIZEN\")"
   ]
  },
  {
   "cell_type": "code",
   "execution_count": 16,
   "metadata": {},
   "outputs": [
    {
     "name": "stdout",
     "output_type": "stream",
     "text": [
      "Enter number =1\n",
      "Number is positive\n"
     ]
    }
   ],
   "source": [
    "#Checking the given num is positive or negative\n",
    "\n",
    "num =float(input(\"Enter number =\"))\n",
    "if num>0:\n",
    "    print(\"Number is positive\")\n",
    "elif num<0:\n",
    "    print(\"Number is Negative\")\n",
    "else:\n",
    "    print(\"Number is zero\")"
   ]
  },
  {
   "cell_type": "code",
   "execution_count": 19,
   "metadata": {},
   "outputs": [
    {
     "name": "stdout",
     "output_type": "stream",
     "text": [
      "Enter a postive number : 22\n",
      "Number is not divisible by 5 \n"
     ]
    }
   ],
   "source": [
    "num=int(input(\"Enter a postive number : \"))\n",
    "if num%5==0:\n",
    "    print(\"Given numer if divisible by 5 \")\n",
    "else:\n",
    "    print(\"Number is not divisible by 5 \")\n",
    "        "
   ]
  },
  {
   "cell_type": "code",
   "execution_count": null,
   "metadata": {},
   "outputs": [],
   "source": []
  }
 ],
 "metadata": {
  "kernelspec": {
   "display_name": "Python 3",
   "language": "python",
   "name": "python3"
  },
  "language_info": {
   "codemirror_mode": {
    "name": "ipython",
    "version": 3
   },
   "file_extension": ".py",
   "mimetype": "text/x-python",
   "name": "python",
   "nbconvert_exporter": "python",
   "pygments_lexer": "ipython3",
   "version": "3.7.4"
  }
 },
 "nbformat": 4,
 "nbformat_minor": 2
}
