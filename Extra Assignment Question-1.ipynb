{
 "cells": [
  {
   "cell_type": "code",
   "execution_count": 1,
   "metadata": {},
   "outputs": [
    {
     "name": "stdout",
     "output_type": "stream",
     "text": [
      "HOPE AI\n"
     ]
    }
   ],
   "source": [
    "print(\"HOPE AI\")"
   ]
  },
  {
   "cell_type": "code",
   "execution_count": 2,
   "metadata": {},
   "outputs": [
    {
     "name": "stdout",
     "output_type": "stream",
     "text": [
      "Enter your institute name =HOPE AI\n",
      "HOPE AI\n"
     ]
    }
   ],
   "source": [
    "name=input(\"Enter your institute name =\")\n",
    "print(name)"
   ]
  },
  {
   "cell_type": "code",
   "execution_count": 4,
   "metadata": {},
   "outputs": [
    {
     "name": "stdout",
     "output_type": "stream",
     "text": [
      "Enter your name :ANTO\n",
      "Applicant name: ANTO\n",
      "Enter your age :25\n",
      "Age is : 25\n",
      "Enter your school name :G.B.H.S.S\n",
      "Applicant's school name: G.B.H.S.S\n",
      "Enter your degree :M.Sc MATHS\n",
      "Applicant's degree is : M.Sc MATHS\n"
     ]
    }
   ],
   "source": [
    "name=input(\"Enter your name :\")\n",
    "print(\"Applicant name:\",name)\n",
    "age=int(input(\"Enter your age :\"))\n",
    "print(\"Age is :\",age)\n",
    "name1=input(\"Enter your school name :\")\n",
    "print(\"Applicant's school name:\",name1)\n",
    "name2=input(\"Enter your degree :\")\n",
    "print(\"Applicant's degree is :\",name2)"
   ]
  },
  {
   "cell_type": "code",
   "execution_count": 5,
   "metadata": {},
   "outputs": [
    {
     "name": "stdout",
     "output_type": "stream",
     "text": [
      "A=43\n",
      "B=34\n",
      "Addition of A & B is = 77\n"
     ]
    }
   ],
   "source": [
    "#ADDITION\n",
    "\n",
    "num1=43\n",
    "print(\"A=43\")\n",
    "num2=34\n",
    "print(\"B=34\")\n",
    "add=num1+num2\n",
    "print(\"Addition of A & B is =\",add)"
   ]
  },
  {
   "cell_type": "code",
   "execution_count": 6,
   "metadata": {},
   "outputs": [
    {
     "name": "stdout",
     "output_type": "stream",
     "text": [
      "A=43\n",
      "B=34\n",
      "Subtraction of A & B is = 9\n"
     ]
    }
   ],
   "source": [
    "#Subtraction\n",
    "\n",
    "num1=43\n",
    "print(\"A=43\")\n",
    "num2=34\n",
    "print(\"B=34\")\n",
    "sub=num1-num2\n",
    "print(\"Subtraction of A & B is =\",sub)"
   ]
  },
  {
   "cell_type": "code",
   "execution_count": 8,
   "metadata": {},
   "outputs": [
    {
     "name": "stdout",
     "output_type": "stream",
     "text": [
      "A=63\n",
      "B=97\n",
      "Multiply of A & B is = 6111\n"
     ]
    }
   ],
   "source": [
    "#Multiplication\n",
    "\n",
    "num1=63\n",
    "print(\"A=63\")\n",
    "num2=97\n",
    "print(\"B=97\")\n",
    "mul=num1*num2\n",
    "print(\"Multiply of A & B is =\",mul)"
   ]
  },
  {
   "cell_type": "code",
   "execution_count": 10,
   "metadata": {},
   "outputs": [
    {
     "name": "stdout",
     "output_type": "stream",
     "text": [
      "A=76\n",
      "B=31\n",
      "Float Division of A & B is = 2.4516129032258065\n"
     ]
    }
   ],
   "source": [
    "#Division\n",
    "\n",
    "num1=76\n",
    "print(\"A=76\")\n",
    "num2=31\n",
    "print(\"B=31\")\n",
    "div=num1/num2\n",
    "print(\"Float Division of A & B is =\",div)"
   ]
  },
  {
   "cell_type": "code",
   "execution_count": 11,
   "metadata": {},
   "outputs": [
    {
     "name": "stdout",
     "output_type": "stream",
     "text": [
      "A=76\n",
      "B=31\n",
      "Floar Division of A & B is = 2\n"
     ]
    }
   ],
   "source": [
    "#Floor Division\n",
    "\n",
    "num1=76\n",
    "print(\"A=76\")\n",
    "num2=31\n",
    "print(\"B=31\")\n",
    "div=num1//num2\n",
    "print(\"Floar Division of A & B is =\",div)"
   ]
  },
  {
   "cell_type": "code",
   "execution_count": 12,
   "metadata": {},
   "outputs": [
    {
     "name": "stdout",
     "output_type": "stream",
     "text": [
      "A=76\n",
      "B=31\n",
      "Modulo of A & B is = 14\n"
     ]
    }
   ],
   "source": [
    "#Modulo\n",
    "\n",
    "num1=76\n",
    "print(\"A=76\")\n",
    "num2=31\n",
    "print(\"B=31\")\n",
    "div=num1%num2\n",
    "print(\"Modulo of A & B is =\",div)"
   ]
  },
  {
   "cell_type": "code",
   "execution_count": 14,
   "metadata": {},
   "outputs": [
    {
     "name": "stdout",
     "output_type": "stream",
     "text": [
      "A=4\n",
      "B=4\n",
      "Power of A & B is = 256\n"
     ]
    }
   ],
   "source": [
    "#Power\n",
    "\n",
    "num1=4\n",
    "print(\"A=4\")\n",
    "num2=4\n",
    "print(\"B=4\")\n",
    "div=num1**num2\n",
    "print(\"Power of A & B is =\",div)"
   ]
  },
  {
   "cell_type": "code",
   "execution_count": null,
   "metadata": {},
   "outputs": [],
   "source": []
  }
 ],
 "metadata": {
  "kernelspec": {
   "display_name": "Python 3",
   "language": "python",
   "name": "python3"
  },
  "language_info": {
   "codemirror_mode": {
    "name": "ipython",
    "version": 3
   },
   "file_extension": ".py",
   "mimetype": "text/x-python",
   "name": "python",
   "nbconvert_exporter": "python",
   "pygments_lexer": "ipython3",
   "version": "3.7.4"
  }
 },
 "nbformat": 4,
 "nbformat_minor": 2
}
