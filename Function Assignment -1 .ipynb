{
 "cells": [
  {
   "cell_type": "code",
   "execution_count": 41,
   "metadata": {},
   "outputs": [],
   "source": [
    "list=[\"Sub-field in AI are:\",\"Machine Learning\",\"Neural Networking\",\"Vision\",\"Robotics\",\"Speech Processing\",\"Natural Language Processing\"]\n",
    "def Subfields():\n",
    "    for L in list:\n",
    "        print(L)"
   ]
  },
  {
   "cell_type": "code",
   "execution_count": 43,
   "metadata": {},
   "outputs": [
    {
     "name": "stdout",
     "output_type": "stream",
     "text": [
      "Sub-field in AI are:\n",
      "Machine Learning\n",
      "Neural Networking\n",
      "Vision\n",
      "Robotics\n",
      "Speech Processing\n",
      "Natural Language Processing\n"
     ]
    }
   ],
   "source": [
    "Subfields()"
   ]
  },
  {
   "cell_type": "code",
   "execution_count": 49,
   "metadata": {},
   "outputs": [],
   "source": [
    "def oddeven():\n",
    "    num=int(input(\"Enter a number: \"))\n",
    "    if num%2==0:\n",
    "        print(num, \"is Even number\")\n",
    "        number=\"Even number\"\n",
    "    else:\n",
    "        print(num,\" is Odd number\")\n",
    "        number=\"Odd number\"\n",
    "    return number"
   ]
  },
  {
   "cell_type": "code",
   "execution_count": 50,
   "metadata": {},
   "outputs": [
    {
     "name": "stdout",
     "output_type": "stream",
     "text": [
      "Enter a number: 25\n",
      "25  is Odd number\n"
     ]
    }
   ],
   "source": [
    "oddeven()"
   ]
  },
  {
   "cell_type": "code",
   "execution_count": 51,
   "metadata": {},
   "outputs": [
    {
     "name": "stdout",
     "output_type": "stream",
     "text": [
      "Enter a number: 24\n",
      "24 is Even number\n"
     ]
    }
   ],
   "source": [
    "oddeven()"
   ]
  },
  {
   "cell_type": "code",
   "execution_count": 72,
   "metadata": {},
   "outputs": [],
   "source": [
    "def Eligible():\n",
    "    gender=input(\"Your Gender: \")\n",
    "    age=int(input(\"Enter your age: \"))\n",
    "    if (gender==\"male\",\"Male\",'M','m','MALE'):\n",
    "        if (age>20):\n",
    "            print(\"ELIGIBLE\")\n",
    "            result=\"ELIGIBLE\"\n",
    "        else:\n",
    "            print(\"NOT ELIGIBLE\")\n",
    "            result=\"NOT ELIGIBLE\"\n",
    "            return result"
   ]
  },
  {
   "cell_type": "code",
   "execution_count": 76,
   "metadata": {},
   "outputs": [
    {
     "name": "stdout",
     "output_type": "stream",
     "text": [
      "Your Gender: M\n",
      "Enter your age: 18\n",
      "NOT ELIGIBLE\n"
     ]
    },
    {
     "data": {
      "text/plain": [
       "'NOT ELIGIBLE'"
      ]
     },
     "execution_count": 76,
     "metadata": {},
     "output_type": "execute_result"
    }
   ],
   "source": [
    "Eligible()"
   ]
  },
  {
   "cell_type": "code",
   "execution_count": 75,
   "metadata": {},
   "outputs": [
    {
     "name": "stdout",
     "output_type": "stream",
     "text": [
      "Your Gender: M\n",
      "Enter your age: 78\n",
      "ELIGIBLE\n"
     ]
    }
   ],
   "source": [
    "Eligible()"
   ]
  },
  {
   "cell_type": "code",
   "execution_count": 2,
   "metadata": {},
   "outputs": [],
   "source": [
    "def Percentage():\n",
    "    mark1=int(input(\"Subject 1 : \"))\n",
    "    mark2=int(input(\"Subject 2 : \"))\n",
    "    mark3=int(input(\"Subject 3 : \"))\n",
    "    mark4=int(input(\"Subject 4 : \"))\n",
    "    mark5=int(input(\"Subject 5 : \"))\n",
    "    add=(mark1+mark2+mark3+mark4+mark5)\n",
    "    print(\"Total : \",add)\n",
    "    marks=\"Total : \",add\n",
    "    avg=(add/5)\n",
    "    print(\"Average is : \",avg)\n",
    "    marks=\"Average is : \",avg\n",
    "    return marks"
   ]
  },
  {
   "cell_type": "code",
   "execution_count": 3,
   "metadata": {},
   "outputs": [
    {
     "name": "stdout",
     "output_type": "stream",
     "text": [
      "Subject 1 : 23\n",
      "Subject 2 : 45\n",
      "Subject 3 : 34\n",
      "Subject 4 : 23\n",
      "Subject 5 : 23\n",
      "Total :  148\n",
      "Average is :  29.6\n"
     ]
    },
    {
     "data": {
      "text/plain": [
       "('Average is : ', 29.6)"
      ]
     },
     "execution_count": 3,
     "metadata": {},
     "output_type": "execute_result"
    }
   ],
   "source": [
    "Percentage()"
   ]
  },
  {
   "cell_type": "code",
   "execution_count": 1,
   "metadata": {},
   "outputs": [],
   "source": [
    "#Triangle\n",
    "\n",
    "def triangle():\n",
    "    l=int(input(\"Lentgth :\"))\n",
    "    b=int(input(\"Breadth :\"))\n",
    "    area=(l*b)/2\n",
    "    print(\"Area of Triangle is =\", area)\n",
    "    value=\"Area of Triangle is =\", area"
   ]
  },
  {
   "cell_type": "code",
   "execution_count": 2,
   "metadata": {},
   "outputs": [
    {
     "name": "stdout",
     "output_type": "stream",
     "text": [
      "Lentgth :3\n",
      "Breadth :4\n",
      "Area of Triangle is = 6.0\n"
     ]
    }
   ],
   "source": [
    "triangle()"
   ]
  },
  {
   "cell_type": "code",
   "execution_count": 3,
   "metadata": {},
   "outputs": [],
   "source": [
    "#Perimeter of Triangle\n",
    "\n",
    "def triangle1():\n",
    "    l1=int(input(\"Length 1 :\"))\n",
    "    l2=int(input(\"Length 2 :\"))\n",
    "    h=int(input(\"Height :\"))\n",
    "    pmtr=l1+l2+h\n",
    "    print(\"Perimeter of Triangle :\",pmtr)\n",
    "    meter=\"Perimeter of Triangle :\",pmtr"
   ]
  },
  {
   "cell_type": "code",
   "execution_count": 4,
   "metadata": {},
   "outputs": [
    {
     "name": "stdout",
     "output_type": "stream",
     "text": [
      "Length 1 :3\n",
      "Length 2 :4\n",
      "Height :45\n",
      "Perimeter of Triangle : 52\n"
     ]
    }
   ],
   "source": [
    "triangle1()"
   ]
  },
  {
   "cell_type": "code",
   "execution_count": null,
   "metadata": {},
   "outputs": [],
   "source": []
  }
 ],
 "metadata": {
  "kernelspec": {
   "display_name": "Python 3",
   "language": "python",
   "name": "python3"
  },
  "language_info": {
   "codemirror_mode": {
    "name": "ipython",
    "version": 3
   },
   "file_extension": ".py",
   "mimetype": "text/x-python",
   "name": "python",
   "nbconvert_exporter": "python",
   "pygments_lexer": "ipython3",
   "version": "3.7.4"
  }
 },
 "nbformat": 4,
 "nbformat_minor": 2
}
