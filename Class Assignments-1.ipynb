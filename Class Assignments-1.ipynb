{
 "cells": [
  {
   "cell_type": "code",
   "execution_count": 4,
   "metadata": {},
   "outputs": [],
   "source": [
    "class SubfieldsinAI():\n",
    "    list=[\"Sub-field in AI are:\",\"Machine Learning\",\"Neural Networking\",\n",
    "          \"Vision\",\"Robotics\",\"Speech Processing\",\"Natural Language Processing\"]\n",
    "    def Subfields():\n",
    "        for L in list:\n",
    "            print(L)"
   ]
  },
  {
   "cell_type": "code",
   "execution_count": 5,
   "metadata": {},
   "outputs": [
    {
     "name": "stdout",
     "output_type": "stream",
     "text": [
      "Sub-field in AI are:\n",
      "Machine Learning\n",
      "Neural Networking\n",
      "Vision\n",
      "Robotics\n",
      "Speech Processing\n",
      "Natural Language Processing\n"
     ]
    }
   ],
   "source": [
    "SubfieldsinAI.Subfields()"
   ]
  },
  {
   "cell_type": "code",
   "execution_count": 7,
   "metadata": {},
   "outputs": [],
   "source": [
    "class OddEven():\n",
    "    def oddeven():\n",
    "        num=int(input(\"Enter a number: \"))\n",
    "        if num%2==0:\n",
    "            print(num, \"is Even number\")\n",
    "            number=\"Even number\"\n",
    "        else:\n",
    "            print(num,\" is Odd number\")\n",
    "            number=\"Odd number\"\n",
    "        return number"
   ]
  },
  {
   "cell_type": "code",
   "execution_count": 8,
   "metadata": {},
   "outputs": [
    {
     "name": "stdout",
     "output_type": "stream",
     "text": [
      "Enter a number: 52452\n",
      "52452 is Even number\n"
     ]
    },
    {
     "data": {
      "text/plain": [
       "'Even number'"
      ]
     },
     "execution_count": 8,
     "metadata": {},
     "output_type": "execute_result"
    }
   ],
   "source": [
    "OddEven.oddeven()"
   ]
  },
  {
   "cell_type": "code",
   "execution_count": 9,
   "metadata": {},
   "outputs": [],
   "source": [
    "class EligibilityForMarriage():\n",
    "    def Eligible():\n",
    "        gender=input(\"Your Gender: \")\n",
    "        age=int(input(\"Enter your age: \"))\n",
    "        if (gender==\"male\",\"Male\",'M','m','MALE'):\n",
    "            if (age>20):\n",
    "                print(\"ELIGIBLE\")\n",
    "                result=\"ELIGIBLE\"\n",
    "            else:\n",
    "                print(\"NOT ELIGIBLE\")\n",
    "                result=\"NOT ELIGIBLE\"\n",
    "                return result"
   ]
  },
  {
   "cell_type": "code",
   "execution_count": 11,
   "metadata": {},
   "outputs": [
    {
     "name": "stdout",
     "output_type": "stream",
     "text": [
      "Your Gender: MALE\n",
      "Enter your age: 20\n",
      "NOT ELIGIBLE\n"
     ]
    },
    {
     "data": {
      "text/plain": [
       "'NOT ELIGIBLE'"
      ]
     },
     "execution_count": 11,
     "metadata": {},
     "output_type": "execute_result"
    }
   ],
   "source": [
    "EligibilityForMarriage.Eligible()"
   ]
  },
  {
   "cell_type": "code",
   "execution_count": 12,
   "metadata": {},
   "outputs": [],
   "source": [
    "class FindPercentage():\n",
    "    def Percentage():\n",
    "        mark1=int(input(\"Subject 1 : \"))\n",
    "        mark2=int(input(\"Subject 2 : \"))\n",
    "        mark3=int(input(\"Subject 3 : \"))\n",
    "        mark4=int(input(\"Subject 4 : \"))\n",
    "        mark5=int(input(\"Subject 5 : \"))\n",
    "        add=(mark1+mark2+mark3+mark4+mark5)\n",
    "        print(\"Total : \",add)\n",
    "        marks=\"Total : \",add\n",
    "        avg=(add/5)\n",
    "        print(\"Average is : \",avg)\n",
    "        marks=\"Average is : \",avg\n",
    "        return marks"
   ]
  },
  {
   "cell_type": "code",
   "execution_count": 13,
   "metadata": {},
   "outputs": [
    {
     "name": "stdout",
     "output_type": "stream",
     "text": [
      "Subject 1 : 98\n",
      "Subject 2 : 87\n",
      "Subject 3 : 95\n",
      "Subject 4 : 95\n",
      "Subject 5 : 93\n",
      "Total :  468\n",
      "Average is :  93.6\n"
     ]
    },
    {
     "data": {
      "text/plain": [
       "('Average is : ', 93.6)"
      ]
     },
     "execution_count": 13,
     "metadata": {},
     "output_type": "execute_result"
    }
   ],
   "source": [
    "FindPercentage.Percentage()"
   ]
  },
  {
   "cell_type": "code",
   "execution_count": 15,
   "metadata": {},
   "outputs": [],
   "source": [
    "class Triangle():\n",
    "    def triangle():\n",
    "        l=int(input(\"Lentgth :\"))\n",
    "        b=int(input(\"Breadth :\"))\n",
    "        area=(l*b)/2\n",
    "        print(\"Area of Triangle is =\", area)\n",
    "        value=\"Area of Triangle is =\", area\n",
    "        \n",
    "    def triangle1():\n",
    "        l1=int(input(\"Length 1 :\"))\n",
    "        l2=int(input(\"Length 2 :\"))\n",
    "        h=int(input(\"Height :\"))\n",
    "        pmtr=l1+l2+h\n",
    "        print(\"Perimeter of Triangle :\",pmtr)\n",
    "        meter=\"Perimeter of Triangle :\",pmtr"
   ]
  },
  {
   "cell_type": "code",
   "execution_count": 16,
   "metadata": {},
   "outputs": [
    {
     "name": "stdout",
     "output_type": "stream",
     "text": [
      "Lentgth :32\n",
      "Breadth :34\n",
      "Area of Triangle is = 544.0\n"
     ]
    }
   ],
   "source": [
    "Triangle.triangle()\n"
   ]
  },
  {
   "cell_type": "code",
   "execution_count": 17,
   "metadata": {},
   "outputs": [
    {
     "name": "stdout",
     "output_type": "stream",
     "text": [
      "Length 1 :2\n",
      "Length 2 :4\n",
      "Height :4\n",
      "Perimeter of Triangle : 10\n"
     ]
    }
   ],
   "source": [
    "Triangle.triangle1()"
   ]
  },
  {
   "cell_type": "code",
   "execution_count": null,
   "metadata": {},
   "outputs": [],
   "source": []
  }
 ],
 "metadata": {
  "kernelspec": {
   "display_name": "Python 3",
   "language": "python",
   "name": "python3"
  },
  "language_info": {
   "codemirror_mode": {
    "name": "ipython",
    "version": 3
   },
   "file_extension": ".py",
   "mimetype": "text/x-python",
   "name": "python",
   "nbconvert_exporter": "python",
   "pygments_lexer": "ipython3",
   "version": "3.7.4"
  }
 },
 "nbformat": 4,
 "nbformat_minor": 2
}
