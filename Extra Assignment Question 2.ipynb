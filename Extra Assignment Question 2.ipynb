{
 "cells": [
  {
   "cell_type": "code",
   "execution_count": 1,
   "metadata": {},
   "outputs": [
    {
     "name": "stdout",
     "output_type": "stream",
     "text": [
      "0\n",
      "1\n",
      "2\n",
      "3\n",
      "4\n",
      "5\n",
      "6\n",
      "7\n",
      "8\n",
      "9\n",
      "10\n",
      "11\n",
      "12\n",
      "13\n",
      "14\n",
      "15\n",
      "16\n",
      "17\n",
      "18\n",
      "19\n"
     ]
    }
   ],
   "source": [
    "for N in range(0,20):\n",
    "    print(N)"
   ]
  },
  {
   "cell_type": "code",
   "execution_count": 6,
   "metadata": {},
   "outputs": [
    {
     "name": "stdout",
     "output_type": "stream",
     "text": [
      "10 11 12 13 14 15 16 17 18 19 "
     ]
    }
   ],
   "source": [
    "#print range 10-20\n",
    "\n",
    "for N in range (10,20):\n",
    "    print(N,end=\" \")"
   ]
  },
  {
   "cell_type": "code",
   "execution_count": 10,
   "metadata": {},
   "outputs": [
    {
     "name": "stdout",
     "output_type": "stream",
     "text": [
      "Number of items in the list= 9\n"
     ]
    }
   ],
   "source": [
    "#using len\n",
    "\n",
    "list=[12,23,34,45,5,6,677,88,9]\n",
    "print(\"Number of items in the list=\",len(list))"
   ]
  },
  {
   "cell_type": "code",
   "execution_count": 28,
   "metadata": {},
   "outputs": [
    {
     "name": "stdout",
     "output_type": "stream",
     "text": [
      "A\n",
      "R\n",
      "T\n",
      "I\n",
      "F\n",
      "I\n",
      "C\n",
      "I\n",
      "A\n",
      "L\n",
      " \n",
      "I\n",
      "N\n",
      "T\n",
      "E\n",
      "L\n",
      "L\n",
      "I\n",
      "G\n",
      "E\n",
      "N\n",
      "C\n",
      "E\n"
     ]
    }
   ],
   "source": [
    "s='ARTIFICIAL INTELLIGENCE'\n",
    "len(s)\n",
    "for i in range (len(s)):\n",
    "    print(s[i])"
   ]
  },
  {
   "cell_type": "code",
   "execution_count": 10,
   "metadata": {},
   "outputs": [
    {
     "name": "stdout",
     "output_type": "stream",
     "text": [
      "Name=  ANTO Age = 28 Profession = M.Sc Maths\n"
     ]
    }
   ],
   "source": [
    "name ,age, profession=\"ANTO\",28,\"M.Sc Maths\"\n",
    "print(\"Name= \",name,\n",
    "      \"Age =\",age,\n",
    "      \"Profession =\",profession)"
   ]
  },
  {
   "cell_type": "code",
   "execution_count": 11,
   "metadata": {},
   "outputs": [
    {
     "name": "stdout",
     "output_type": "stream",
     "text": [
      "Name=  ANTO\n",
      "Age = 28\n",
      "Profession = M.Sc Maths\n"
     ]
    }
   ],
   "source": [
    "name ,age, profession=\"ANTO\",28,\"M.Sc Maths\"\n",
    "print(\"Name= \",name)\n",
    "print(\"Age =\",age)\n",
    "print(\"Profession =\",profession)"
   ]
  },
  {
   "cell_type": "code",
   "execution_count": 17,
   "metadata": {},
   "outputs": [
    {
     "name": "stdout",
     "output_type": "stream",
     "text": [
      "Name: ANTO\n",
      "Age: 28\n",
      "Profession: M.Sc Mathematics\n"
     ]
    }
   ],
   "source": [
    "def personal_details():\n",
    "    name, age ,profession= \"ANTO\", 28 ,\"M.Sc Mathematics\"\n",
    "    print(\"Name: {}\\nAge: {}\\nProfession: {}\".format(name, age, profession))\n",
    "\n",
    "personal_details()"
   ]
  },
  {
   "cell_type": "code",
   "execution_count": 19,
   "metadata": {},
   "outputs": [
    {
     "name": "stdout",
     "output_type": "stream",
     "text": [
      "(1, 'WELCOME', 2, 'HOPE')\n"
     ]
    }
   ],
   "source": [
    "tuple1= 1 , \"WELCOME\"\n",
    "tuple2= 2 , \"HOPE\"\n",
    "print(tuple1+tuple2)"
   ]
  },
  {
   "cell_type": "code",
   "execution_count": 21,
   "metadata": {},
   "outputs": [
    {
     "name": "stdout",
     "output_type": "stream",
     "text": [
      "((0, 1, 2, 3), ('PYTHON', 'HOPE'))\n"
     ]
    }
   ],
   "source": [
    "tuple1= (0,1,2,3)\n",
    "tuple2= (\"PYTHON\" , \"HOPE\")\n",
    "tuple3=(tuple1,tuple2)\n",
    "print(tuple3)"
   ]
  },
  {
   "cell_type": "code",
   "execution_count": 31,
   "metadata": {},
   "outputs": [
    {
     "name": "stdout",
     "output_type": "stream",
     "text": [
      "19  is odd number , 25  is odd number , 1  is odd number , "
     ]
    }
   ],
   "source": [
    "list=[20,10,16,19,25,1,276,188]\n",
    "for num in list:\n",
    "    if num % 2 !=0:\n",
    "        print(num, end= \" \" \" is odd number , \")"
   ]
  },
  {
   "cell_type": "code",
   "execution_count": 32,
   "metadata": {},
   "outputs": [
    {
     "name": "stdout",
     "output_type": "stream",
     "text": [
      "20  is even number , 10  is even number , 16  is even number , 276  is even number , 188  is even number , "
     ]
    }
   ],
   "source": [
    " list=[20,10,16,19,25,1,276,188]\n",
    "for num in list:\n",
    "    if num % 2 ==0:\n",
    "        print(num, end= \" \" \" is even number , \")"
   ]
  },
  {
   "cell_type": "code",
   "execution_count": null,
   "metadata": {},
   "outputs": [],
   "source": []
  }
 ],
 "metadata": {
  "kernelspec": {
   "display_name": "Python 3",
   "language": "python",
   "name": "python3"
  },
  "language_info": {
   "codemirror_mode": {
    "name": "ipython",
    "version": 3
   },
   "file_extension": ".py",
   "mimetype": "text/x-python",
   "name": "python",
   "nbconvert_exporter": "python",
   "pygments_lexer": "ipython3",
   "version": "3.7.4"
  }
 },
 "nbformat": 4,
 "nbformat_minor": 2
}
